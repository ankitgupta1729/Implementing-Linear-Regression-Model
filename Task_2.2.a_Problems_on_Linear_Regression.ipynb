{
 "cells": [
  {
   "cell_type": "markdown",
   "metadata": {},
   "source": [
    "## Task 2.2.a"
   ]
  },
  {
   "cell_type": "code",
   "execution_count": 1,
   "metadata": {},
   "outputs": [],
   "source": [
    "# For the given problem, dependent variable is \"Price of the flat (z)\" and there are 2 independent variables:\n",
    "# i.e \"Size of the flat in square ft(x)\" & \"number of bedrooms in the flat(y)\"\n",
    "# let z = ax+by+c is a hyperplane which is nearest to the points given in the sample.\n",
    "# Now, using least square method for linear regression, x=(a,b,c)^T = (A^TA)^(-1)A^T(B) for system Ax =B\n",
    "# This concept is described in part 2.1 \n",
    "# The code is written below"
   ]
  },
  {
   "cell_type": "code",
   "execution_count": 2,
   "metadata": {},
   "outputs": [],
   "source": [
    "#Importing libraries\n",
    "import numpy as np"
   ]
  },
  {
   "cell_type": "code",
   "execution_count": 3,
   "metadata": {},
   "outputs": [],
   "source": [
    "dataset = [[1600,3,8.2],\n",
    "           [1260,2,6.6],\n",
    "           [1800,4,10.3],\n",
    "           [600,1,1.7],\n",
    "           [850,2,3.6],\n",
    "           [920,2,4.4],\n",
    "           [1090,2,5.4],\n",
    "           [890,2,4.8],\n",
    "           [1340,3,10.5],\n",
    "           [1650,2,7.4]]\n",
    "# For each sublist of list dataset, 1st entry shows x value, 2nd entry shows y value and 3rd entry shows z value"
   ]
  },
  {
   "cell_type": "code",
   "execution_count": 4,
   "metadata": {},
   "outputs": [],
   "source": [
    "# writing it in z= ax+by+c form and then convert it into matrix form\n",
    "# I am writing it in matrix equation form directly\n",
    "\n",
    "A=[]\n",
    "for i in range(10):\n",
    "    temp=[]\n",
    "    temp.append(dataset[i][0])\n",
    "    temp.append(dataset[i][1])\n",
    "    temp.append(1) # for coefficient of c i.e. 1\n",
    "    A.append(temp)\n",
    "\n",
    "B=[]\n",
    "for i in range(10):\n",
    "    B.append(dataset[i][-1])       "
   ]
  },
  {
   "cell_type": "code",
   "execution_count": 5,
   "metadata": {
    "scrolled": true
   },
   "outputs": [
    {
     "name": "stdout",
     "output_type": "stream",
     "text": [
      "[[1600, 3, 1], [1260, 2, 1], [1800, 4, 1], [600, 1, 1], [850, 2, 1], [920, 2, 1], [1090, 2, 1], [890, 2, 1], [1340, 3, 1], [1650, 2, 1]]\n",
      "[8.2, 6.6, 10.3, 1.7, 3.6, 4.4, 5.4, 4.8, 10.5, 7.4]\n"
     ]
    }
   ],
   "source": [
    "# Printing matrix A and vector B\n",
    "print(A)\n",
    "print(B) "
   ]
  },
  {
   "cell_type": "code",
   "execution_count": 6,
   "metadata": {},
   "outputs": [],
   "source": [
    "#writing function for transpose of a matrix\n",
    "def transpose(A,m,n):\n",
    "    trans=[]\n",
    "    for j in range(n):\n",
    "        temp=[]\n",
    "        for i in range(m):\n",
    "            temp.append(A[i][j])\n",
    "        trans.append(temp)\n",
    "    return trans    "
   ]
  },
  {
   "cell_type": "code",
   "execution_count": 7,
   "metadata": {},
   "outputs": [
    {
     "name": "stdout",
     "output_type": "stream",
     "text": [
      "[[1600, 1260, 1800, 600, 850, 920, 1090, 890, 1340, 1650], [3, 2, 4, 1, 2, 2, 2, 2, 3, 2], [1, 1, 1, 1, 1, 1, 1, 1, 1, 1]]\n"
     ]
    }
   ],
   "source": [
    "trans_A= transpose(A,10,3)\n",
    "print(transpose(A,10,3)) # printing transpose of matrix A"
   ]
  },
  {
   "cell_type": "code",
   "execution_count": 8,
   "metadata": {},
   "outputs": [],
   "source": [
    "mul = np.dot(trans_A, A) # multiplying A^T and A\n",
    "inv = np.linalg.inv(mul) # inverse of A^T*A\n",
    "prod= np.dot(inv,trans_A) # multiplying (A^T*A)^-1 and A^T\n",
    "res = np.dot(prod,B) # finding (A^T*A)^-1 * A^T* B"
   ]
  },
  {
   "cell_type": "code",
   "execution_count": 9,
   "metadata": {},
   "outputs": [
    {
     "name": "stdout",
     "output_type": "stream",
     "text": [
      "[ 0.00362953  1.67818099 -1.9252501 ]\n"
     ]
    }
   ],
   "source": [
    "# So, our result matrix is \n",
    "print(res) # It shows the values of a,b,c"
   ]
  },
  {
   "cell_type": "markdown",
   "metadata": {},
   "source": [
    "### Conclusion : Best fit hyperplane for the given data is z = 0.0036*x + 1.6781*y - 1.9252 \n",
    "###----------------------------------------------------------------------------------------------------------"
   ]
  },
  {
   "cell_type": "markdown",
   "metadata": {},
   "source": [
    "#### To estimate the upper and lower limit of bank loan based on the requirement, I will use the above\n",
    "#### best fit hyperplane\n",
    "#### Here, according to requirement 950<=x<=1050 and y=2,3\n",
    "#### For, x= 950,y=2 ----> z = 4.851\n",
    "#### For, x= 950,y=3 ----> z = 6.5291\n",
    "#### For, x= 1050,y=2 ----> z = 5.211\n",
    "#### For, x= 1050,y=3 ----> z = 6.8891\n",
    "\n",
    "### It means, for 950 square ft. flat with 2 bedrooms, flat cost will be minimum ie 4.851 millions and\n",
    "### for 1050 square ft. flat with 3 bedrooms, flat cost will be maximum ie 6.8891 millions\n",
    "\n",
    "### Note: These are just estimates"
   ]
  }
 ],
 "metadata": {
  "kernelspec": {
   "display_name": "Python 3",
   "language": "python",
   "name": "python3"
  },
  "language_info": {
   "codemirror_mode": {
    "name": "ipython",
    "version": 3
   },
   "file_extension": ".py",
   "mimetype": "text/x-python",
   "name": "python",
   "nbconvert_exporter": "python",
   "pygments_lexer": "ipython3",
   "version": "3.7.6"
  }
 },
 "nbformat": 4,
 "nbformat_minor": 4
}
